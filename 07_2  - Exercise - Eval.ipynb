{
 "cells": [
  {
   "cell_type": "markdown",
   "metadata": {},
   "source": [
    "**Exercise 7.2.** *The built-in function `eval` takes a string and evaluates it using the Python interpreter. For example:*\n",
    "```\n",
    ">>> eval('1 + 2 * 3')\n",
    "7\n",
    ">>> import math\n",
    ">>> eval('math.sqrt(5)')\n",
    "2.2360679774997898\n",
    ">>> eval('type(math.pi)')\n",
    "<class 'float'>\n",
    "```\n",
    "\n",
    "*Write a function called eval_loop that iteratively prompts the user, takes the resulting input and\n",
    "evaluates it using eval, and prints the result.*\n",
    "\n",
    "*It should continue until the user enters 'done', and then return the value of the last expression it\n",
    "evaluated.*\n"
   ]
  },
  {
   "cell_type": "code",
   "execution_count": null,
   "metadata": {},
   "outputs": [],
   "source": [
    "def eval_loop():\n",
    "    while 1==1:\n",
    "        a=input('Write a string for evaluation: ')\n",
    "        if a == 'Done' or a=='done' or a == 'DONE':\n",
    "            break\n",
    "        else:\n",
    "            print(eval(a))\n",
    "        "
   ]
  },
  {
   "cell_type": "code",
   "execution_count": null,
   "metadata": {},
   "outputs": [],
   "source": [
    "eval_loop()"
   ]
  }
 ],
 "metadata": {
  "kernelspec": {
   "display_name": "Python 3.6",
   "language": "python",
   "name": "python36"
  },
  "language_info": {
   "codemirror_mode": {
    "name": "ipython",
    "version": 3
   },
   "file_extension": ".py",
   "mimetype": "text/x-python",
   "name": "python",
   "nbconvert_exporter": "python",
   "pygments_lexer": "ipython3",
   "version": "3.6.3"
  }
 },
 "nbformat": 4,
 "nbformat_minor": 2
}
