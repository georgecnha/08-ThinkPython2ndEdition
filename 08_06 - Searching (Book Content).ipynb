{
 "cells": [
  {
   "cell_type": "code",
   "execution_count": null,
   "metadata": {},
   "outputs": [],
   "source": [
    "def find(word, letter):\n",
    "    index = 0\n",
    "    while index < len(word):\n",
    "        if word[index] == letter:\n",
    "            return index\n",
    "        index = index + 1\n",
    "    return -1"
   ]
  },
  {
   "cell_type": "markdown",
   "metadata": {},
   "source": [
    "In a sense, ``find`` is the inverse of the [] operator. Instead of taking an index and extracting\n",
    "the corresponding character, it takes a character and finds the index where that character\n",
    "appears. If the character is not found, the function returns -1.\n",
    "\n",
    "This is the first example we have seen of a return statement inside a loop. \n",
    "If ``word[index]== letter``, the function breaks out of the loop and returns immediately.\n",
    "\n",
    "If the character doesn’t appear in the string, the program exits the loop normally and re\n",
    "turns -1.\n",
    "\n",
    "This pattern of computation—traversing a sequence and returning when we find what we\n",
    "are looking for—is called a **search**.\n",
    "\n",
    "As an exercise, modify ``find`` so that it has a third parameter, the index in ``word`` where it\n",
    "should start looking.\n"
   ]
  },
  {
   "cell_type": "code",
   "execution_count": null,
   "metadata": {},
   "outputs": [],
   "source": [
    "#Modified Function\n",
    "def find(index, word, letter):\n",
    "    while index < len(word):\n",
    "        if word[index] == letter:\n",
    "            return index\n",
    "        index = index + 1\n",
    "    return -1"
   ]
  }
 ],
 "metadata": {
  "kernelspec": {
   "display_name": "Python 3.6",
   "language": "python",
   "name": "python36"
  },
  "language_info": {
   "codemirror_mode": {
    "name": "ipython",
    "version": 3
   },
   "file_extension": ".py",
   "mimetype": "text/x-python",
   "name": "python",
   "nbconvert_exporter": "python",
   "pygments_lexer": "ipython3",
   "version": "3.6.3"
  }
 },
 "nbformat": 4,
 "nbformat_minor": 2
}
