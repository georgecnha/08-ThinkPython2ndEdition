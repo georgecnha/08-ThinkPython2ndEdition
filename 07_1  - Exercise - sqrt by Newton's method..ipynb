{
 "cells": [
  {
   "cell_type": "markdown",
   "metadata": {},
   "source": [
    "**Exercise 7.1.** Copy the loop from Section 7.5 and encapsulate it in a function called mysqrt that\n",
    "takes a as a parameter, chooses a reasonable value of x, and returns an estimate of the square root of\n",
    "a. To test it, write a function named test_square_root that prints a table like this:\n",
    "\n",
    "``` \n",
    "a   mysqrt(a)     math.sqrt(a)  diff\n",
    "-   ---------     ------------  ----\n",
    "1.0 1.0           1.0           0.0\n",
    "2.0 1.41421356237 1.41421356237 2.22044604925e-16\n",
    "3.0 1.73205080757 1.73205080757 0.0\n",
    "4.0 2.0 2.0 0.0\n",
    "5.0 2.2360679775  2.2360679775  0.0\n",
    "6.0 2.44948974278 2.44948974278 0.0\n",
    "7.0 2.64575131106 2.64575131106 0.0\n",
    "8.0 2.82842712475 2.82842712475 4.4408920985e-16\n",
    "9.0 3.0           3.0           0.0\n",
    "```\n",
    "\n",
    "The first column is a number, a; the second column is the square root of a computed with mysqrt;\n",
    "the third column is the square root computed by math.sqrt; the fourth column is the absolute value\n",
    "of the difference between the two estimates.\n"
   ]
  },
  {
   "cell_type": "code",
   "execution_count": null,
   "metadata": {},
   "outputs": [],
   "source": [
    "def mysqrt (a):\n",
    "    epsilon=10**-6\n",
    "    x=a\n",
    "    y =(x + a/x ) / 2\n",
    "    while abs(y-x)>epsilon:\n",
    "        x = y\n",
    "        y = (x+a/x) / 2\n",
    "    return y"
   ]
  },
  {
   "cell_type": "code",
   "execution_count": null,
   "metadata": {},
   "outputs": [],
   "source": [
    "def test_square_root():\n",
    "    from math import sqrt\n",
    "    print(\"a       mysqrt(a) \\t  math.sqrt(a) \\t diff\")\n",
    "    print('-       --------- \\t  ------------ \\t ----' ) \n",
    "    for i in range (1,10):\n",
    "        print('{}  \\t{:.10f} \\t  {:.10f} \\t {} '.format(i, mysqrt(i), sqrt(i), abs(sqrt(i) - mysqrt(i))))\n",
    "        "
   ]
  },
  {
   "cell_type": "code",
   "execution_count": null,
   "metadata": {
    "scrolled": true
   },
   "outputs": [],
   "source": [
    "test_square_root()"
   ]
  },
  {
   "cell_type": "code",
   "execution_count": null,
   "metadata": {},
   "outputs": [],
   "source": []
  }
 ],
 "metadata": {
  "kernelspec": {
   "display_name": "Python 3.6",
   "language": "python",
   "name": "python36"
  },
  "language_info": {
   "codemirror_mode": {
    "name": "ipython",
    "version": 3
   },
   "file_extension": ".py",
   "mimetype": "text/x-python",
   "name": "python",
   "nbconvert_exporter": "python",
   "pygments_lexer": "ipython3",
   "version": "3.6.3"
  }
 },
 "nbformat": 4,
 "nbformat_minor": 2
}
