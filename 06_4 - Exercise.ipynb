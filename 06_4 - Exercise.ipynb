{
 "cells": [
  {
   "cell_type": "markdown",
   "metadata": {
    "collapsed": true
   },
   "source": [
    "**Exercise 6.4.** A number, a, is a power of b if it is divisible by b and a/b is a power of b. Write a\n",
    "function called is_power that takes parameters a and b and returns True if a is a power of b. \n",
    "\n",
    "Note: you will have to think about the base case."
   ]
  },
  {
   "cell_type": "markdown",
   "metadata": {},
   "source": [
    "**Exercício 6.4.** Um número, a, é uma potência de b, se é divisível por b e a/b é uma potência de b. Escreva uma função chamada is_power que receba a e b e retorne True se a for uma potência de b.\n",
    "\n",
    "Nota: Você vai ter que pensar sobre o _base case_."
   ]
  },
  {
   "cell_type": "code",
   "execution_count": 15,
   "metadata": {},
   "outputs": [],
   "source": [
    "def is_power(a, b):\n",
    "    if a == 0 and b == 0:           #Daqui até o último elif  estão sendo \n",
    "        return True #0^2=0 0 is power   #Resolvidos os casos excepcionais \n",
    "    elif a % b != 0:     \n",
    "        return False #Numbers indivisible by each other are not power\n",
    "    elif a == 1 and b == 1: \n",
    "        return True #1^2=1; 1^3=1; etc. \n",
    "    elif a > 0 and b == 0:\n",
    "        return False #Nenhum número maior que zero, a alguma potência é 0.\n",
    "    elif a > 1 and b == 1:\n",
    "        return False #Nenhum número maior que um a alguma potência é 1.\n",
    "    elif a % b == 0 and a / b == 1:\n",
    "        return True #Dois números divisíveis, cuja divisão dá 1. Ex.:2^1=2\n",
    "    elif a % b == 0 and a / b > 1:\n",
    "        #print(2 * ' ' * int(a / b), a / b)\n",
    "        if is_power(a / b, b):\n",
    "            return True\n",
    "        else:\n",
    "            return False\n"
   ]
  },
  {
   "cell_type": "code",
   "execution_count": 16,
   "metadata": {},
   "outputs": [
    {
     "name": "stdout",
     "output_type": "stream",
     "text": [
      "True\n"
     ]
    }
   ],
   "source": [
    "print(is_power(1024, 4))"
   ]
  },
  {
   "cell_type": "code",
   "execution_count": 17,
   "metadata": {},
   "outputs": [
    {
     "name": "stdout",
     "output_type": "stream",
     "text": [
      "True\n"
     ]
    }
   ],
   "source": [
    "print(is_power(16, 4))"
   ]
  },
  {
   "cell_type": "code",
   "execution_count": 18,
   "metadata": {},
   "outputs": [
    {
     "name": "stdout",
     "output_type": "stream",
     "text": [
      "False\n"
     ]
    }
   ],
   "source": [
    "print(is_power(98,4))"
   ]
  },
  {
   "cell_type": "code",
   "execution_count": null,
   "metadata": {},
   "outputs": [],
   "source": []
  }
 ],
 "metadata": {
  "kernelspec": {
   "display_name": "Python 3.6",
   "language": "python",
   "name": "python36"
  },
  "language_info": {
   "codemirror_mode": {
    "name": "ipython",
    "version": 3
   },
   "file_extension": ".py",
   "mimetype": "text/x-python",
   "name": "python",
   "nbconvert_exporter": "python",
   "pygments_lexer": "ipython3",
   "version": "3.6.3"
  }
 },
 "nbformat": 4,
 "nbformat_minor": 2
}
