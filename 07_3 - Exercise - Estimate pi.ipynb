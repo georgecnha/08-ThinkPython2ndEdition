{
 "cells": [
  {
   "cell_type": "markdown",
   "metadata": {},
   "source": [
    "**Exercise 7.3.** *The mathematician Srinivasa Ramanujan found an infinite series that can be used to generate a numerical approximation of 1/π:*\n",
    "\n",
    "$\\dfrac{1}{\\pi}= \\dfrac{2\\sqrt2}{9801}\\sum_{k=0}^{\\infty}\\dfrac{(4k)!(1103 + 26390k)}{(k!)^4 396^{4k}}$\n",
    "\n",
    "*Write a function called estimate_pi that uses this formula to compute and return an estimate of\n",
    "π. It should use a while loop to compute terms of the summation until the last term is smaller than\n",
    "1e-15 (which is Python notation for $10^{−15}$). You can check the result by comparing it to math.pi.*"
   ]
  },
  {
   "cell_type": "code",
   "execution_count": 1,
   "metadata": {},
   "outputs": [],
   "source": [
    "def estimate_pi():\n",
    "    from math import sqrt, factorial, pi\n",
    "    k=-1\n",
    "    x=0\n",
    "    while 1==1:\n",
    "        k+=1\n",
    "        num =(factorial(4 * k)) * (1103 + 26390 * k)\n",
    "        den =((factorial(k)) ** 4) * (396 ** (4 * k))\n",
    "        x += (num/den)\n",
    "        y= ( (2 * sqrt(2)) /9801) *x\n",
    "        if abs((1/y)-pi)< 10**(-15):\n",
    "            return (1/y)\n",
    "        else:\n",
    "            continue"
   ]
  },
  {
   "cell_type": "code",
   "execution_count": 2,
   "metadata": {},
   "outputs": [
    {
     "name": "stdout",
     "output_type": "stream",
     "text": [
      "3.1415926535897936\n"
     ]
    }
   ],
   "source": [
    "print(estimate_pi())"
   ]
  },
  {
   "cell_type": "code",
   "execution_count": 3,
   "metadata": {},
   "outputs": [
    {
     "data": {
      "text/plain": [
       "6"
      ]
     },
     "execution_count": 3,
     "metadata": {},
     "output_type": "execute_result"
    }
   ],
   "source": [
    "from math import factorial\n",
    "a=3\n",
    "factorial(a)"
   ]
  },
  {
   "cell_type": "code",
   "execution_count": null,
   "metadata": {},
   "outputs": [],
   "source": []
  }
 ],
 "metadata": {
  "kernelspec": {
   "display_name": "Python 3.6",
   "language": "python",
   "name": "python36"
  },
  "language_info": {
   "codemirror_mode": {
    "name": "ipython",
    "version": 3
   },
   "file_extension": ".py",
   "mimetype": "text/x-python",
   "name": "python",
   "nbconvert_exporter": "python",
   "pygments_lexer": "ipython3",
   "version": "3.6.3"
  }
 },
 "nbformat": 4,
 "nbformat_minor": 2
}
