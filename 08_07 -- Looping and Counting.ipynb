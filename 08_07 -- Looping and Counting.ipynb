{
 "cells": [
  {
   "cell_type": "raw",
   "metadata": {},
   "source": [
    "The following program counts the number of times the letter a appears in a string:"
   ]
  },
  {
   "cell_type": "code",
   "execution_count": null,
   "metadata": {},
   "outputs": [],
   "source": [
    "word = 'banana'\n",
    "count = 0\n",
    "for letter in word:\n",
    "    if letter == 'a':\n",
    "        count = count + 1\n",
    "print(count)"
   ]
  },
  {
   "cell_type": "raw",
   "metadata": {},
   "source": [
    "This program demonstrates another pattern of computation called a counter. The variable `count` is initialized to 0 and then incremented each time an a is found. When the loop exits, `count` contains the result—the total number of a’s.\n",
    "\n",
    "As an exercise, encapsulate this code in a function named `count`, and generalize it so that it accepts the string and the letter as arguments.\n"
   ]
  },
  {
   "cell_type": "code",
   "execution_count": 4,
   "metadata": {},
   "outputs": [
    {
     "data": {
      "text/plain": [
       "3"
      ]
     },
     "execution_count": 4,
     "metadata": {},
     "output_type": "execute_result"
    }
   ],
   "source": [
    "def count (word, letter):\n",
    "    count = 0\n",
    "    for letra in word:\n",
    "        if letra == letter:\n",
    "            count = count + 1\n",
    "    return(count)\n",
    "\n",
    "count('banana', 'a')"
   ]
  },
  {
   "cell_type": "raw",
   "metadata": {},
   "source": [
    "Then rewrite the function so that instead of traversing the string, it uses the threeparameter version of find from the previous section."
   ]
  },
  {
   "cell_type": "code",
   "execution_count": 6,
   "metadata": {},
   "outputs": [
    {
     "data": {
      "text/plain": [
       "3"
      ]
     },
     "execution_count": 6,
     "metadata": {},
     "output_type": "execute_result"
    }
   ],
   "source": [
    "def find(index, word, letter): #Function from the previous section\n",
    "    while index < len(word):\n",
    "        if word[index] == letter:\n",
    "            return index\n",
    "        index = index + 1\n",
    "    return -1\n",
    "\n",
    "def count (word, letter):\n",
    "    count = 0\n",
    "    index = 0\n",
    "    while index < len(word):\n",
    "        if find(index, word, letter) == -1:\n",
    "            return 0\n",
    "        else:\n",
    "            count = count + 1\n",
    "            index = find(index, word, letter) + 1\n",
    "            \n",
    "    return(count)\n",
    "\n",
    "count('banana', 'a')"
   ]
  }
 ],
 "metadata": {
  "kernelspec": {
   "display_name": "Python 3.6",
   "language": "python",
   "name": "python36"
  },
  "language_info": {
   "codemirror_mode": {
    "name": "ipython",
    "version": 3
   },
   "file_extension": ".py",
   "mimetype": "text/x-python",
   "name": "python",
   "nbconvert_exporter": "python",
   "pygments_lexer": "ipython3",
   "version": "3.6.3"
  }
 },
 "nbformat": 4,
 "nbformat_minor": 2
}
