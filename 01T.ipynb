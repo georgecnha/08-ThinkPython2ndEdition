{
 "cells": [
  {
   "cell_type": "markdown",
   "metadata": {},
   "source": [
    "The following is a series of exercises using TurtleWorld. They are meant to be fun, but they\n",
    "have a point, too. While you are working on them, think about what the point is.\n",
    "The following sections have solutions to the exercises, so don’t look until you have finished\n",
    "(or at least tried).\n",
    "1. Write a function called square that takes a parameter named t, which is a turtle. It\n",
    "should use the turtle to draw a square.\n",
    "Write a function call that passes bob as an argument to square, and then run the\n",
    "program again.\n"
   ]
  },
  {
   "cell_type": "code",
   "execution_count": null,
   "metadata": {},
   "outputs": [],
   "source": [
    "import turtle\n",
    "def square(t):\n",
    "    for i in range(4):\n",
    "        t.fd(200)\n",
    "        t.lt(90)\n",
    "\n",
    "turtle.delay(20)  \n",
    "bob=turtle.Turtle()\n",
    "square(t=bob)\n",
    "turtle.mainloop()\n",
    "    "
   ]
  },
  {
   "cell_type": "markdown",
   "metadata": {},
   "source": [
    "#2. Add another parameter, named length, to square. Modify the body so length of the\n",
    "sides is length, and then modify the function call to provide a second argument. Run\n",
    "the program again. Test your program with a range of values for length.\n"
   ]
  },
  {
   "cell_type": "code",
   "execution_count": null,
   "metadata": {},
   "outputs": [],
   "source": [
    "import turtle\n",
    "def square(t, length):\n",
    "    for i in range(4):\n",
    "        t.fd(length)\n",
    "        t.lt(90)\n",
    " \n",
    "turtle.delay(20)  \n",
    "bob=turtle.Turtle()\n",
    "square(t=bob,length=100)\n",
    "turtle.mainloop()\n",
    "    "
   ]
  },
  {
   "cell_type": "markdown",
   "metadata": {},
   "source": [
    "#3. Make a copy of square and change the name to polygon. Add another parameter\n",
    "named n and modify the body so it draws an n-sided regular polygon. Hint: The\n",
    "exterior angles of an n-sided regular polygon are 360/n degrees.\n"
   ]
  },
  {
   "cell_type": "code",
   "execution_count": null,
   "metadata": {},
   "outputs": [],
   "source": [
    "import turtle\n",
    "def polygon(t, length, n):\n",
    "    angle=360/n\n",
    "    for i in range(0, n):\n",
    "        t.fd(length)\n",
    "        t.lt(angle)\n",
    "\n",
    "turtle.delay(10)  \n",
    "bob=turtle.Turtle()\n",
    "polygon(t=bob,length=50,n=6)\n",
    "turtle.mainloop()"
   ]
  },
  {
   "cell_type": "markdown",
   "metadata": {},
   "source": [
    "#4. Write a function called circle that takes a turtle, t, and radius, r, as parameters and\n",
    "that draws an approximate circle by calling polygon with an appropriate length and\n",
    "number of sides. Test your function with a range of values of r.\n",
    "\n",
    "Hint: figure out the circumference of the circle and make sure that length * n =\n",
    "circumference.\n"
   ]
  },
  {
   "cell_type": "code",
   "execution_count": null,
   "metadata": {},
   "outputs": [],
   "source": [
    "import turtle\n",
    "from math import pi\n",
    "def circle(t, r):\n",
    "    circumference=2*pi*r   #If length * n = circumference, we know that length= circumference/n\n",
    "    n=100\n",
    "    angle=360/n\n",
    "    length=circumference/n\n",
    "    for i in range(0, n):\n",
    "        t.fd(length)\n",
    "        t.lt(angle)\n",
    "        \n",
    "turtle.delay(10)  \n",
    "bob=turtle.Turtle()\n",
    "circle(t=bob,r=70)\n",
    "turtle.mainloop()"
   ]
  },
  {
   "cell_type": "code",
   "execution_count": null,
   "metadata": {},
   "outputs": [],
   "source": [
    "#Generaling for an adaptable number of sides.\n",
    "\n",
    "import turtle\n",
    "from math import pi\n",
    "def circle(t, r):\n",
    "    circumference=2*pi*r\n",
    "    angle=360/n                #If length * n = circumference, we know that length= circumference/n\n",
    "    n=int(circumference/3) + 3  # Adding 3 to n garantees that the figure will have at least three sides.\n",
    "    length=circumference/n\n",
    "    for i in range(0, n):\n",
    "        t.fd(length)\n",
    "        t.lt(angle)\n",
    "        \n",
    "turtle.delay(10)  \n",
    "bob=turtle.Turtle()\n",
    "circle(t=bob,r=70)\n",
    "turtle.mainloop()"
   ]
  },
  {
   "cell_type": "markdown",
   "metadata": {},
   "source": [
    "#5. Make a more general version of circle called arc that takes an additional parameter\n",
    "angle, which determines what fraction of a circle to draw. angle is in units of degrees,\n",
    "so when angle=360, arc should draw a complete circle.\n"
   ]
  },
  {
   "cell_type": "code",
   "execution_count": null,
   "metadata": {},
   "outputs": [],
   "source": [
    "import turtle\n",
    "from math import pi\n",
    "def arc(t, r,angle): #This angle is the angle of arc.\n",
    "    arc_length=(2*pi*r*abs(angle))/360         #If length * n = circumference, we know that length= circumference/n\n",
    "    n=int(arc_length/3) + 3  \n",
    "    step_length=arc_length/(n)\n",
    "    step_angle=angle/n #This step_angle is used by the turtle when draws new sides\n",
    "    \n",
    "    for i in range(0, n):\n",
    "        t.fd(step_length)\n",
    "        t.lt(step_angle)\n",
    "        \n",
    "turtle.delay(10)  \n",
    "bob=turtle.Turtle()\n",
    "arc(t=bob, r=100, angle=180)\n",
    "turtle.mainloop()\n",
    "\n"
   ]
  }
 ],
 "metadata": {
  "kernelspec": {
   "display_name": "Python 3",
   "language": "python",
   "name": "python3"
  },
  "language_info": {
   "codemirror_mode": {
    "name": "ipython",
    "version": 3
   },
   "file_extension": ".py",
   "mimetype": "text/x-python",
   "name": "python",
   "nbconvert_exporter": "python",
   "pygments_lexer": "ipython3",
   "version": "3.5.4"
  }
 },
 "nbformat": 4,
 "nbformat_minor": 2
}
