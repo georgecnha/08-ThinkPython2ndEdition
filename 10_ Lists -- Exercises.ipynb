{
  "cells": [
    {
      "metadata": {
        "collapsed": true
      },
      "cell_type": "markdown",
      "source": "# 10.15 Exercises\nYou can download solutions to these exercises from http://thinkpython2.com/code/list_exercises.py."
    },
    {
      "metadata": {},
      "cell_type": "markdown",
      "source": "**Exercise 10.1.** *Write a function called nested_sum that takes a list of lists of integers and adds up the elements from all of the nested lists. For example:*"
    },
    {
      "metadata": {},
      "cell_type": "raw",
      "source": ">>> t = [[1, 2], [3], [4, 5, 6]]\n>>> nested_sum(t)\n21"
    },
    {
      "metadata": {
        "trusted": true
      },
      "cell_type": "code",
      "source": "def nested_sum(t):\n    s=0\n    for line in t:\n        s+=sum(line)\n    return s\n\nt=[[1, 2], [3], [4, 5, 6]]\nnested_sum(t)",
      "execution_count": 1,
      "outputs": [
        {
          "output_type": "execute_result",
          "execution_count": 1,
          "data": {
            "text/plain": "21"
          },
          "metadata": {}
        }
      ]
    },
    {
      "metadata": {},
      "cell_type": "markdown",
      "source": "**Exercise 10.2.** *Write a function called* `cumsum` *that takes a list of numbers and returns the cumulative sum; that is, a new list where the ith element is the sum of the first i + 1 elements from the original list. For example:*"
    },
    {
      "metadata": {},
      "cell_type": "raw",
      "source": ">>> t = [1, 2, 3]\n>>> cumsum(t)\n[1, 3, 6]"
    },
    {
      "metadata": {
        "trusted": true
      },
      "cell_type": "code",
      "source": "def cumsum(t):\n    new=[]\n    i=0\n    while i < len(t):\n        i+=1\n        new += [sum(t[:i])]\n    return new   \n    \n        \nt = [1, 2, 3]\ncumsum(t)",
      "execution_count": 2,
      "outputs": [
        {
          "output_type": "execute_result",
          "execution_count": 2,
          "data": {
            "text/plain": "[1, 3, 6]"
          },
          "metadata": {}
        }
      ]
    },
    {
      "metadata": {},
      "cell_type": "markdown",
      "source": "**Exercise 10.3.** *Write a function* called `middle` *that takes a list and returns a new list that contains all but the first and last elements. For example:*"
    },
    {
      "metadata": {},
      "cell_type": "raw",
      "source": ">>> t = [1, 2, 3, 4]\n>>> middle(t)\n[2, 3]"
    },
    {
      "metadata": {
        "trusted": true
      },
      "cell_type": "code",
      "source": "def middle(t):\n    new=t[1:(len(t)-1)]\n    return new\n\nt = [1, 2, 3, 4]\nmiddle(t)",
      "execution_count": 3,
      "outputs": [
        {
          "output_type": "execute_result",
          "execution_count": 3,
          "data": {
            "text/plain": "[2, 3]"
          },
          "metadata": {}
        }
      ]
    },
    {
      "metadata": {},
      "cell_type": "markdown",
      "source": "**Exercise 10.4.** *Write a function called* `chop` *that takes a list, modifies it by removing the first and last elements, and returns `None.` For example:*"
    },
    {
      "metadata": {},
      "cell_type": "raw",
      "source": ">>> t = [1, 2, 3, 4]\n>>> chop(t)\n>>> t\n[2, 3]"
    },
    {
      "metadata": {
        "trusted": true
      },
      "cell_type": "code",
      "source": "def chop(t):\n    del (t[0],t[len(t)-1])\n    return None\n\nt = [1, 2, 3, 4]\n\nchop(t)\nprint(t)",
      "execution_count": 4,
      "outputs": [
        {
          "output_type": "stream",
          "text": "[2, 3]\n",
          "name": "stdout"
        }
      ]
    },
    {
      "metadata": {},
      "cell_type": "markdown",
      "source": "**Exercise 10.5.** *Write a function called* `is_sorted` *that takes a list as a parameter and returns `True` if the list is sorted in ascending order and False otherwise. For example:*"
    },
    {
      "metadata": {},
      "cell_type": "raw",
      "source": ">>> is_sorted([1, 2, 2])\nTrue\n>>> is_sorted(['b', 'a'])\nFalse"
    },
    {
      "metadata": {
        "trusted": true
      },
      "cell_type": "code",
      "source": "def is_sorted(t):\n    i=0\n    while i < len(t)-1:\n        if t[i] <= t[i+1]:\n            i += 1\n        else:\n            return False\n    return True\n\nprint(is_sorted([1, 2, 2]))\nprint(is_sorted(['b', 'a']))",
      "execution_count": 5,
      "outputs": [
        {
          "output_type": "stream",
          "text": "True\nFalse\n",
          "name": "stdout"
        }
      ]
    },
    {
      "metadata": {},
      "cell_type": "markdown",
      "source": "**Exercise 10.6.** *Two words are anagrams if you can rearrange the letters from one to spell the other. Write a function called* `is_anagram` *that takes two strings and returns True if they are anagrams.*"
    },
    {
      "metadata": {
        "trusted": true
      },
      "cell_type": "code",
      "source": "def is_anagram(s1, s2):\n    i=0\n    s01=s1.replace(' ', '')\n    s02=s2.replace(' ', '')\n\n    if len(s01)!=len(s02):\n        return False\n    elif s01 != s02[::-1]:\n        return False\n    else:\n        return True\n\n\ns1= 'ana banana'\ns2= 'ana canana'\nprint(is_anagram(s1, s2))\ns3= 'subi no onibus'\ns4= 'subi no onibus'\nprint(is_anagram(s3, s4))",
      "execution_count": 6,
      "outputs": [
        {
          "output_type": "stream",
          "text": "False\nTrue\n",
          "name": "stdout"
        }
      ]
    },
    {
      "metadata": {},
      "cell_type": "markdown",
      "source": "**Exercise 10.7.** *Write a function called* `has_duplicates` *that takes a list and returns True if there is any element that appears more than once. It should not modify the original list.*"
    },
    {
      "metadata": {
        "trusted": true
      },
      "cell_type": "code",
      "source": "def has_duplicates(t):\n    for i in range(len(t)):\n        for j in range(len(t)):\n            if i==j:\n                continue\n            elif t[i]==t[j]:\n                return True\n    return False\n\nt=[1,2,3,4]\nprint(has_duplicates(t))\nt=[1,2,3,2]\nprint(has_duplicates(t))",
      "execution_count": 7,
      "outputs": [
        {
          "output_type": "stream",
          "text": "False\nTrue\n",
          "name": "stdout"
        }
      ]
    },
    {
      "metadata": {},
      "cell_type": "markdown",
      "source": "**Exercise 10.8.** *This exercise pertains to the so-called Birthday Paradox, which you can read about\nat http://en.wikipedia.org/wiki/Birthday_paradox.*\n\n*If there are 23 students in your class, what are the chances that two of you have the same birthday?\nYou can estimate this probability by generating random samples of 23 birthdays and checking for\nmatches.*\n\n*Hint: you can generate random birthdays with the randint function in the random module.\nYou can download my solution from http://thinkpython2.com/code/birthday.py.*"
    },
    {
      "metadata": {
        "trusted": true
      },
      "cell_type": "code",
      "source": "from random import randint\n\ndef random_bdays(n):\n    \"\"\"Returns a ramdom list of birthdays\n    \"\"\"\n    bd=[]\n    \n    for i in range(n):\n        bd+=[randint(1,365)]\n    return bd\n\ndef has_duplicates(t):\n    for i in range(len(t)):\n        for j in range(len(t)):\n            if i==j:\n                continue\n            elif t[i]==t[j]:\n                return True\n    return False\n\ndef counting_matches(n_simul, n):\n    matches=0\n    for i in range(n_simul):\n        if has_duplicates(random_bdays(n)):\n            matches+=1\n    return matches\n\n\nn=23\nn_simul=1000\n    \nprint(\"\"\"After {} simulations, \nwith {} students each, \nwe obtained {} matches.\"\"\".format(n_simul, n, counting_matches(n_simul, n)))\n",
      "execution_count": 8,
      "outputs": [
        {
          "output_type": "stream",
          "text": "After 1000 simulations, \nwith 23 students each, \nwe obtained 517 matches.\n",
          "name": "stdout"
        }
      ]
    },
    {
      "metadata": {},
      "cell_type": "markdown",
      "source": "**Exercise 10.9.** *Write a function that reads the file words.txt and builds a list with one element\nper word. Write two versions of this function, one using the append method and the other using\nthe idiom* `t = t + [x]`. *Which one takes longer to run? Why?*\n\nSolution: http://thinkpython2.com/code/wordlist.py ."
    },
    {
      "metadata": {
        "trusted": true
      },
      "cell_type": "code",
      "source": "import time\n\ndef make_word_list1():\n    \"\"\"Reads lines from a file and builds a list using append.\"\"\"\n    words = []\n    fin = open('words.txt')\n    for line in fin:\n        word = line.strip()\n        words.append(word)\n    return words\n\ndef make_word_list2():\n    \"\"\"Reads lines from a file and builds a list using +\"\"\"\n    words = []\n    fin = open('words.txt')\n    for line in fin:\n        word = line.strip()\n        words= words+[word]\n    return words\n\nstart1= time.time()\nwords1=make_word_list1()\nelapsed1=time.time() - start1\n\nprint('The first version takes {} seconds.'.format(elapsed1))\n\nstart2=time.time()\nwords2=make_word_list2()\nelapsed2=time.time() - start2\n\nprint('The second version takes {} seconds.'.format(elapsed2))\n\n\n\ndef make_word_list3():\n    \"\"\"Reads lines from a file and builds a list using +=\n    (This was not required at the exercise)\"\"\"\n    words = []\n    fin = open('words.txt')\n    for line in fin:\n        word = line.strip()\n        words += [word]\n    return words\n\nstart3=time.time()\nwords3=make_word_list3()\nelapsed3=time.time() - start3\n\nprint('The third version takes {} seconds.'.format(elapsed2))\n\nprint('The lists have {} words.'.format(len(words1)))",
      "execution_count": 9,
      "outputs": [
        {
          "output_type": "stream",
          "text": "The first version takes 0.6109590530395508 seconds.\nThe second version takes 237.97663617134094 seconds.\nThe third version takes 237.97663617134094 seconds.\nThe lists have 113809 words.\n",
          "name": "stdout"
        }
      ]
    },
    {
      "metadata": {},
      "cell_type": "raw",
      "source": "The time to the second case is greater the the time to the first..."
    },
    {
      "metadata": {},
      "cell_type": "markdown",
      "source": "**Exercise 10.10.** *To check whether a word is in the word list, you could use the* `in` *operator, but it would be slow because it searches through the words in order*.\n\n*Because the words are in alphabetical order, we can speed things up with a bisection search (also\nknown as binary search), which is similar to what you do when you look a word up in the dictionary.\nYou start in the middle and check to see whether the word you are looking for comes before the word\nin the middle of the list. If so, you search the first half of the list the same way. Otherwise you search the second half.*\n\n*Either way, you cut the remaining search space in half. If the word list has 113,809 words, it will\ntake about 17 steps to find the word or conclude that it’s not there.*\n\n*Write a function called* `in_bisect` *that takes a sorted list and a target value and returns* `True` *if the word is in the list and* `False` *if it’s not.*\n\n*Or you could read the documentation of the* `bisect` *module and use that! Solution: http://thinkpython2.com/code/inlist.py .*"
    },
    {
      "metadata": {
        "trusted": true
      },
      "cell_type": "code",
      "source": "def make_word_list():\n    \"\"\"Reads lines from a file and builds a list using append.\"\"\"\n    words = []\n    fin = open('words.txt')\n    for line in fin:\n        word = line.strip()\n        words.append(word)\n    return words\n\n",
      "execution_count": 2,
      "outputs": [
        {
          "output_type": "stream",
          "text": "aa in list True\nalien in list True\nallen in list False\nzymurgy in list True\n",
          "name": "stdout"
        }
      ]
    },
    {
      "metadata": {
        "trusted": true
      },
      "cell_type": "code",
      "source": "\"\"\"This module contains a code example related to\n\nThink Python, 2nd Edition\nby Allen Downey\nhttp://thinkpython2.com\n\nCopyright 2015 Allen Downey\n\nLicense: http://creativecommons.org/licenses/by/4.0/\n\"\"\"\n\nfrom __future__ import print_function, division\n\nimport bisect\n\n\ndef make_word_list():\n    \"\"\"Reads lines from a file and builds a list using append.\n\n    returns: list of strings\n    \"\"\"\n    word_list = []\n    fin = open('words.txt')\n    for line in fin:\n        word = line.strip()\n        word_list.append(word)\n    return word_list\n\n\ndef in_bisect(word_list, word):\n    \"\"\"Checks whether a word is in a list using bisection search.\n\n    Precondition: the words in the list are sorted\n\n    word_list: list of strings\n    word: string\n\n    returns: True if the word is in the list; False otherwise\n    \"\"\"\n    if len(word_list) == 0:\n        return False\n\n    i = len(word_list) // 2\n    if word_list[i] == word:\n        return True\n\n    if word_list[i] > word:\n        # search the first half\n        return in_bisect(word_list[:i], word)\n    else:\n        # search the second half\n        return in_bisect(word_list[i+1:], word)\n\n\ndef in_bisect_cheat(word_list, word):\n    \"\"\"Checks whether a word is in a list using bisection search.\n\n    Precondition: the words in the list are sorted\n\n    word_list: list of strings\n    word: string\n    \"\"\"\n    i = bisect.bisect_left(word_list, word)\n    if i == len(word_list):\n        return False\n\n    return word_list[i] == word\n\n\nif __name__ == '__main__':\n    word_list = make_word_list()\n    \n    for word in ['aa', 'alien', 'allen', 'zymurgy']:\n        print(word, 'in list', in_bisect(word_list, word))\n\n    for word in ['aa', 'alien', 'allen', 'zymurgy']:\n        print(word, 'in list', in_bisect_cheat(word_list, word))\n",
      "execution_count": 11,
      "outputs": [
        {
          "output_type": "stream",
          "text": "aa in list True\nalien in list True\nallen in list False\nzymurgy in list True\naa in list True\nalien in list True\nallen in list False\nzymurgy in list True\n",
          "name": "stdout"
        }
      ]
    },
    {
      "metadata": {},
      "cell_type": "markdown",
      "source": "**Exercise 10.11.** *Two words are a “reverse pair” if each is the reverse of the other. Write a program that finds all the reverse pairs in the word list. Solution:* http://thinkpython2.com/code/reverse_pair.py ."
    },
    {
      "metadata": {
        "trusted": true
      },
      "cell_type": "code",
      "source": "",
      "execution_count": null,
      "outputs": []
    },
    {
      "metadata": {},
      "cell_type": "markdown",
      "source": "**Exercise 10.12.** *Two words “interlock” if taking alternating letters from each forms a new\nword. For example, “shoe” and “cold” interlock to form “schooled”. Solution:* http://thinkpython2.com/code/interlock.py. \n\nCredit: This exercise is inspired by an example at http://puzzlers.org .\n\n1. Write a program that finds all pairs of words that interlock. Hint: don’t enumerate all pairs!\n2. Can you find any words that are three-way interlocked; that is, every third letter forms a word, starting from the first, second or third?"
    },
    {
      "metadata": {
        "trusted": true
      },
      "cell_type": "code",
      "source": "",
      "execution_count": null,
      "outputs": []
    }
  ],
  "metadata": {
    "kernelspec": {
      "name": "python36",
      "display_name": "Python 3.6",
      "language": "python"
    },
    "language_info": {
      "mimetype": "text/x-python",
      "nbconvert_exporter": "python",
      "name": "python",
      "pygments_lexer": "ipython3",
      "version": "3.6.3",
      "file_extension": ".py",
      "codemirror_mode": {
        "version": 3,
        "name": "ipython"
      }
    }
  },
  "nbformat": 4,
  "nbformat_minor": 2
}