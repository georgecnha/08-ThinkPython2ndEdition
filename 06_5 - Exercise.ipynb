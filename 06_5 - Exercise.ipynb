{
 "cells": [
  {
   "cell_type": "markdown",
   "metadata": {},
   "source": [
    "**Exercise 6.5.** The greatest common divisor (GCD) of a and b is the largest number that divides\n",
    "both of them with no remainder. \n",
    "\n",
    "One way to find the GCD of two numbers is based on the observation that if **r** is the remainder when a is divided by b, then ***gcd(a,b) = gcd(b, r)***. As a base case, we can use ***gcd(a, 0) = a***.\n",
    "\n",
    "\n",
    "Write a function called gcd that takes parameters a and b and returns their greatest common divisor.\n",
    "\n",
    "\n",
    "Credit: This exercise is based on an example from Abelson and Sussman’s Structure and Interpretation of Computer Programs."
   ]
  },
  {
   "cell_type": "code",
   "execution_count": 33,
   "metadata": {},
   "outputs": [
    {
     "data": {
      "text/plain": [
       "3"
      ]
     },
     "execution_count": 33,
     "metadata": {},
     "output_type": "execute_result"
    }
   ],
   "source": [
    "def GCD(a,b):\n",
    "    if a == b == 1:\n",
    "        return 1\n",
    "    elif b == a == 0:\n",
    "        return 1\n",
    "    elif a > 0 and b == 0:\n",
    "        return 1\n",
    "    elif b > 0 and a == 0:\n",
    "        return 1\n",
    "    else:\n",
    "        # compute remainder\n",
    "        r= a % b\n",
    "        # If we have base case, no need to call again\n",
    "        if r == 0:\n",
    "            return b\n",
    "        # otherwise, we recurse and grab the return value\n",
    "        else:\n",
    "            return GCD(b, r)\n",
    "        \n",
    "        \n",
    "GCD(144,3)"
   ]
  },
  {
   "cell_type": "code",
   "execution_count": null,
   "metadata": {},
   "outputs": [],
   "source": []
  },
  {
   "cell_type": "code",
   "execution_count": null,
   "metadata": {},
   "outputs": [],
   "source": []
  }
 ],
 "metadata": {
  "kernelspec": {
   "display_name": "Python 3.6",
   "language": "python",
   "name": "python36"
  },
  "language_info": {
   "codemirror_mode": {
    "name": "ipython",
    "version": 3
   },
   "file_extension": ".py",
   "mimetype": "text/x-python",
   "name": "python",
   "nbconvert_exporter": "python",
   "pygments_lexer": "ipython3",
   "version": "3.6.3"
  }
 },
 "nbformat": 4,
 "nbformat_minor": 2
}
